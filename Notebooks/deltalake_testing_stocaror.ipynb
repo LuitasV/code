{
 "cells": [
  {
   "cell_type": "code",
   "execution_count": 3,
   "metadata": {
    "id": "604a23c52e0544359f15811a83c892b4",
    "tags": []
   },
   "outputs": [
    {
     "data": {
      "text/html": [
       "A row limit of 1000 has been applied to the query to enable sample previewing. If the data set is larger, only the first 5000 rows will be loaded."
      ],
      "text/plain": [
       "<IPython.core.display.HTML object>"
      ]
     },
     "metadata": {},
     "output_type": "display_data"
    },
    {
     "ename": "RuntimeError",
     "evalue": "No asset named \"Trial_DB2\" of type \"connection\".",
     "output_type": "error",
     "traceback": [
      "\u001b[0;31m---------------------------------------------------------------------------\u001b[0m",
      "\u001b[0;31mRuntimeError\u001b[0m                              Traceback (most recent call last)",
      "\u001b[0;32m/usr/local/share/jupyter/kernels/python39/scripts/launch_ipykernel.py\u001b[0m in \u001b[0;36m<module>\u001b[0;34m\u001b[0m\n\u001b[1;32m     28\u001b[0m     }\n\u001b[1;32m     29\u001b[0m }\n\u001b[0;32m---> 30\u001b[0;31m \u001b[0mflight_request\u001b[0m \u001b[0;34m=\u001b[0m \u001b[0mitcfs\u001b[0m\u001b[0;34m.\u001b[0m\u001b[0mget_data_request\u001b[0m\u001b[0;34m(\u001b[0m\u001b[0mnb_data_request\u001b[0m\u001b[0;34m=\u001b[0m\u001b[0mTrial_DB2_data_request\u001b[0m\u001b[0;34m)\u001b[0m\u001b[0;34m\u001b[0m\u001b[0;34m\u001b[0m\u001b[0m\n\u001b[0m\u001b[1;32m     31\u001b[0m \u001b[0;34m\u001b[0m\u001b[0m\n\u001b[1;32m     32\u001b[0m \u001b[0msp_df_2\u001b[0m \u001b[0;34m=\u001b[0m \u001b[0msparkSession\u001b[0m\u001b[0;34m.\u001b[0m\u001b[0mread\u001b[0m\u001b[0;34m.\u001b[0m\u001b[0mformat\u001b[0m\u001b[0;34m(\u001b[0m\u001b[0;34m\"com.ibm.connect.spark.flight\"\u001b[0m\u001b[0;34m)\u001b[0m\u001b[0;31m \u001b[0m\u001b[0;31m\\\u001b[0m\u001b[0;34m\u001b[0m\u001b[0;34m\u001b[0m\u001b[0m\n",
      "\u001b[0;32m/opt/ibm/conda/miniconda/lib/python/site-packages/itc_utils/flight_service.py\u001b[0m in \u001b[0;36mget_data_request\u001b[0;34m(data_request, nb_data_request, wslib, new_interface)\u001b[0m\n\u001b[1;32m    398\u001b[0m         \u001b[0;32mif\u001b[0m \u001b[0mwslib\u001b[0m \u001b[0;32mis\u001b[0m \u001b[0;32mNone\u001b[0m\u001b[0;34m:\u001b[0m\u001b[0;34m\u001b[0m\u001b[0;34m\u001b[0m\u001b[0m\n\u001b[1;32m    399\u001b[0m             \u001b[0mwslib\u001b[0m \u001b[0;34m=\u001b[0m \u001b[0mitc_utils\u001b[0m\u001b[0;34m.\u001b[0m\u001b[0mget_wslib\u001b[0m\u001b[0;34m(\u001b[0m\u001b[0;34m)\u001b[0m\u001b[0;34m\u001b[0m\u001b[0;34m\u001b[0m\u001b[0m\n\u001b[0;32m--> 400\u001b[0;31m         req = _get_data_request_for_nb(nb_data_request=nb_data_request,\n\u001b[0m\u001b[1;32m    401\u001b[0m                                        \u001b[0mwslib\u001b[0m\u001b[0;34m=\u001b[0m\u001b[0mwslib\u001b[0m\u001b[0;34m,\u001b[0m\u001b[0;34m\u001b[0m\u001b[0;34m\u001b[0m\u001b[0m\n\u001b[1;32m    402\u001b[0m                                        new_interface=new_interface)\n",
      "\u001b[0;32m/opt/ibm/conda/miniconda/lib/python/site-packages/itc_utils/flight_service.py\u001b[0m in \u001b[0;36m_get_data_request_for_nb\u001b[0;34m(nb_data_request, wslib, new_interface)\u001b[0m\n\u001b[1;32m    194\u001b[0m \u001b[0;34m\u001b[0m\u001b[0m\n\u001b[1;32m    195\u001b[0m     \u001b[0;31m#asset_id etc.\u001b[0m\u001b[0;34m\u001b[0m\u001b[0;34m\u001b[0m\u001b[0m\n\u001b[0;32m--> 196\u001b[0;31m     cmd = _get_asset_spec_for_data_request(nb_data_request, wslib,\n\u001b[0m\u001b[1;32m    197\u001b[0m                                            new_interface)\n\u001b[1;32m    198\u001b[0m \u001b[0;34m\u001b[0m\u001b[0m\n",
      "\u001b[0;32m/opt/ibm/conda/miniconda/lib/python/site-packages/itc_utils/flight_service.py\u001b[0m in \u001b[0;36m_get_asset_spec_for_data_request\u001b[0;34m(nb_data_request, wslib, new_interface)\u001b[0m\n\u001b[1;32m     56\u001b[0m         \u001b[0masset\u001b[0m \u001b[0;34m=\u001b[0m \u001b[0;32mNone\u001b[0m\u001b[0;34m\u001b[0m\u001b[0;34m\u001b[0m\u001b[0m\n\u001b[1;32m     57\u001b[0m         \u001b[0;32mif\u001b[0m \u001b[0mnb_data_request\u001b[0m\u001b[0;34m.\u001b[0m\u001b[0mget\u001b[0m\u001b[0;34m(\u001b[0m\u001b[0;34m'connection_name'\u001b[0m\u001b[0;34m)\u001b[0m \u001b[0;32mis\u001b[0m \u001b[0;32mnot\u001b[0m \u001b[0;32mNone\u001b[0m\u001b[0;34m:\u001b[0m\u001b[0;34m\u001b[0m\u001b[0;34m\u001b[0m\u001b[0m\n\u001b[0;32m---> 58\u001b[0;31m             asset = wslib.assets.get_asset(\n\u001b[0m\u001b[1;32m     59\u001b[0m                 \u001b[0mnb_data_request\u001b[0m\u001b[0;34m.\u001b[0m\u001b[0mget\u001b[0m\u001b[0;34m(\u001b[0m\u001b[0;34m'connection_name'\u001b[0m\u001b[0;34m)\u001b[0m\u001b[0;34m,\u001b[0m\u001b[0;34m\u001b[0m\u001b[0;34m\u001b[0m\u001b[0m\n\u001b[1;32m     60\u001b[0m                 asset_type='connection')\n",
      "\u001b[0;32m/opt/ibm/conda/miniconda/lib/python/site-packages/ibm_watson_studio_lib/assets_abc.py\u001b[0m in \u001b[0;36mget_asset\u001b[0;34m(self, name_or_item, asset_type, raw)\u001b[0m\n\u001b[1;32m    103\u001b[0m             raise RuntimeError(\n\u001b[1;32m    104\u001b[0m                 '\"asset_type\" is required for get_asset by name.')\n\u001b[0;32m--> 105\u001b[0;31m         \u001b[0masset_id\u001b[0m \u001b[0;34m=\u001b[0m \u001b[0mself\u001b[0m\u001b[0;34m.\u001b[0m\u001b[0m_identify_asset\u001b[0m\u001b[0;34m(\u001b[0m\u001b[0mname_or_item\u001b[0m\u001b[0;34m,\u001b[0m \u001b[0masset_type\u001b[0m\u001b[0;34m)\u001b[0m\u001b[0;34m\u001b[0m\u001b[0;34m\u001b[0m\u001b[0m\n\u001b[0m\u001b[1;32m    106\u001b[0m         \u001b[0;32mreturn\u001b[0m \u001b[0mself\u001b[0m\u001b[0;34m.\u001b[0m\u001b[0m_lookup_asset\u001b[0m\u001b[0;34m(\u001b[0m\u001b[0masset_id\u001b[0m\u001b[0;34m,\u001b[0m \u001b[0mraw\u001b[0m\u001b[0;34m=\u001b[0m\u001b[0mraw\u001b[0m\u001b[0;34m)\u001b[0m\u001b[0;34m\u001b[0m\u001b[0;34m\u001b[0m\u001b[0m\n\u001b[1;32m    107\u001b[0m \u001b[0;34m\u001b[0m\u001b[0m\n",
      "\u001b[0;32m/opt/ibm/conda/miniconda/lib/python/site-packages/ibm_watson_studio_lib/impl/asset_browser.py\u001b[0m in \u001b[0;36m_identify_asset\u001b[0;34m(self, name_or_item, asset_type, optional)\u001b[0m\n\u001b[1;32m    131\u001b[0m \u001b[0;34m\u001b[0m\u001b[0m\n\u001b[1;32m    132\u001b[0m         \u001b[0;32mif\u001b[0m \u001b[0;32mnot\u001b[0m \u001b[0masset_id\u001b[0m \u001b[0;32mand\u001b[0m \u001b[0misinstance\u001b[0m\u001b[0;34m(\u001b[0m\u001b[0mname_or_item\u001b[0m\u001b[0;34m,\u001b[0m \u001b[0mstr\u001b[0m\u001b[0;34m)\u001b[0m\u001b[0;34m:\u001b[0m\u001b[0;34m\u001b[0m\u001b[0;34m\u001b[0m\u001b[0m\n\u001b[0;32m--> 133\u001b[0;31m             asset_id = self._name_to_id(\n\u001b[0m\u001b[1;32m    134\u001b[0m                 name_or_item, asset_type, optional=optional)\n\u001b[1;32m    135\u001b[0m \u001b[0;34m\u001b[0m\u001b[0m\n",
      "\u001b[0;32m/opt/ibm/conda/miniconda/lib/python/site-packages/ibm_watson_studio_lib/impl/asset_browser.py\u001b[0m in \u001b[0;36m_name_to_id\u001b[0;34m(self, name, asset_type, optional)\u001b[0m\n\u001b[1;32m    413\u001b[0m             \u001b[0;32mif\u001b[0m \u001b[0moptional\u001b[0m\u001b[0;34m:\u001b[0m\u001b[0;34m\u001b[0m\u001b[0;34m\u001b[0m\u001b[0m\n\u001b[1;32m    414\u001b[0m                 \u001b[0;32mreturn\u001b[0m \u001b[0;32mNone\u001b[0m\u001b[0;34m\u001b[0m\u001b[0;34m\u001b[0m\u001b[0m\n\u001b[0;32m--> 415\u001b[0;31m             raise RuntimeError('No asset named \"{}\" of type \"{}\".'\n\u001b[0m\u001b[1;32m    416\u001b[0m                                .format(name, asset_type))\n\u001b[1;32m    417\u001b[0m         \u001b[0;32mif\u001b[0m \u001b[0mlen\u001b[0m\u001b[0;34m(\u001b[0m\u001b[0mitems\u001b[0m\u001b[0;34m)\u001b[0m \u001b[0;34m>\u001b[0m \u001b[0;36m1\u001b[0m\u001b[0;34m:\u001b[0m\u001b[0;34m\u001b[0m\u001b[0;34m\u001b[0m\u001b[0m\n",
      "\u001b[0;31mRuntimeError\u001b[0m: No asset named \"Trial_DB2\" of type \"connection\"."
     ]
    }
   ],
   "source": [
    "import itc_utils.flight_service as itcfs\n",
    "\n",
    "import pyspark.sql.functions as f\n",
    "from pyspark.sql.window import Window\n",
    "from pyspark.sql import SparkSession\n",
    "sparkSession = SparkSession.builder \\\n",
    "    .config(\"spark.sql.extensions\", \"io.delta.sql.DeltaSparkSessionExtension\") \\\n",
    "    .config(\"spark.sql.catalog.spark_catalog\", \"org.apache.spark.sql.delta.catalog.DeltaCatalog\") \\\n",
    "    .config(\"fs.s3a.endpoint\", \"https://s3.eu-de.cloud-object-storage.appdomain.cloud\") \\\n",
    "    .config(\"fs.s3a.access.key\",\"4736b28acb064baeb7701a1f416d2b0c\") \\\n",
    "    .config(\"fs.s3a.secret.key\",\"1a070473a7fb93f4a13a1f5ab78bf2c82cd16649c9c4573d\") \\\n",
    "    .getOrCreate()\n",
    "\n",
    "#     .config(\"spark.jars\", \"delta-storage-2.1.1.jar, delta-core_2.12-2.1.1.jar\") \\\n",
    "#     .config(\"spark.jars.packages\", \"io.delta:delta-core_2.12:2.1.0\") \\\n",
    "\n",
    "# NOTE:\n",
    "#  A limit of 5000 rows has been applied to the request to enable sample previewing.\n",
    "#  Adjust the display message as needed by editing the following lines:\n",
    "from IPython.display import display, HTML\n",
    "display(HTML(\"A row limit of 1000 has been applied to the query to enable sample previewing. If the data set is larger, only the first 5000 rows will be loaded.\"))\n",
    "#  Edit select_statement to change or disable the row limit.\n",
    "#\n",
    "Trial_DB2_data_request = {\n",
    "    'connection_name': \"\"\"Trial_DB2\"\"\",\n",
    "    'interaction_properties': {\n",
    "        'select_statement': 'SELECT * FROM \"CUSTOMER\".\"CUSTOMER\" FETCH FIRST 1000 ROWS ONLY'\n",
    "    }\n",
    "}\n",
    "flight_request = itcfs.get_data_request(nb_data_request=Trial_DB2_data_request)\n",
    "\n",
    "sp_df_2 = sparkSession.read.format(\"com.ibm.connect.spark.flight\") \\\n",
    "    .option(\"flight.location\", itcfs.get_flight_service_url()) \\\n",
    "    .option(\"flight.command\", itcfs.get_flight_cmd(data_request=flight_request)) \\\n",
    "    .option(\"flight.authToken\", itcfs.get_bearer_token()) \\\n",
    "    .load()\n",
    "# sp_df_2.show(10)\n"
   ]
  },
  {
   "cell_type": "code",
   "execution_count": 1,
   "metadata": {
    "id": "aa727a55e3d14e878f4526f47c0e2792"
   },
   "outputs": [],
   "source": [
    "## Si queremos cargar un fichero csv en el proyecto, en vez de ir al Warehouse\n",
    "# import itc_utils.flight_service as itcfs\n",
    "\n",
    "# import pyspark.sql.functions as f\n",
    "# from pyspark.sql.window import Window\n",
    "# from pyspark.sql import SparkSession\n",
    "# sparkSession = SparkSession.builder \\\n",
    "#     .config(\"spark.sql.extensions\", \"io.delta.sql.DeltaSparkSessionExtension\") \\\n",
    "#     .config(\"spark.sql.catalog.spark_catalog\", \"org.apache.spark.sql.delta.catalog.DeltaCatalog\") \\\n",
    "#     .config(\"fs.s3a.endpoint\", \"https://s3.eu-de.cloud-object-storage.appdomain.cloud\") \\\n",
    "#     .config(\"fs.s3a.access.key\",\"4736b28acb064baeb7701a1f416d2b0c\") \\\n",
    "#     .config(\"fs.s3a.secret.key\",\"1a070473a7fb93f4a13a1f5ab78bf2c82cd16649c9c4573d\") \\\n",
    "#     .config(\"spark.sql.execution.arrow.pyspark.enabled\", \"true\") \\\n",
    "#     .getOrCreate()\n",
    "# #spark.conf.set(\"spark.sql.execution.arrow.pyspark.enabled\", \"true\")\n",
    "# #     .config(\"spark.jars\", \"delta-storage-2.1.1.jar, delta-core_2.12-2.1.1.jar\") \\\n",
    "# #     .config(\"spark.jars.packages\", \"io.delta:delta-core_2.12:2.1.0\") \\\n",
    "\n",
    "# readClient = itcfs.get_flight_client()\n",
    "\n",
    "# nb_data_request = {\n",
    "#     'data_name': \"\"\"CUSTOMER_INCOME.csv\"\"\",\n",
    "#     'interaction_properties': {\n",
    "#         #'row_limit': 500,\n",
    "#         'infer_schema': 'true',\n",
    "#         'infer_as_varchar': 'false'\n",
    "#     }\n",
    "# }\n",
    "\n",
    "# flightInfo = itcfs.get_flight_info(readClient, nb_data_request=nb_data_request)\n",
    "\n",
    "# data_df_0 = itcfs.read_pandas_and_concat(readClient, flightInfo, timeout=240)\n",
    "# sp_df_3 = spark.createDataFrame(data_df_0)\n",
    "# # sp_df_3.show(10)\n"
   ]
  },
  {
   "cell_type": "code",
   "execution_count": null,
   "metadata": {
    "id": "bfa1afa80383484c8ab71f21e8d31199"
   },
   "outputs": [],
   "source": [
    "## Si queremos cargar un fichero csv en el proyecto, en vez de ir al Warehouse\n",
    "# import pandas as pd\n",
    "# from ibm_watson_studio_lib import access_project_or_space\n",
    "# wslib = access_project_or_space()\n",
    "\n",
    "# customer_pandas = sp_df_2.toPandas()\n",
    "# customer_pandas_csv = customer_pandas.to_csv(index=False)\n",
    "# wslib.save_data(\"CUSTOMER_INCOME.csv\", customer_pandas_csv.encode(), overwrite=True)"
   ]
  },
  {
   "cell_type": "code",
   "execution_count": 2,
   "metadata": {
    "id": "9288fe762bed42f38114e6b483371dcf"
   },
   "outputs": [],
   "source": [
    "def filter_columns(df):\n",
    "  return df.select(\"FIRST_NAME\", \"LAST_NAME\", \"GENDER\", \"COUNTRY\", \"INCOME\").orderBy(\"INCOME\", ascending = False)"
   ]
  },
  {
   "cell_type": "code",
   "execution_count": 3,
   "metadata": {
    "id": "d004cc88914d485d8bced57aa70aa341"
   },
   "outputs": [],
   "source": [
    "customer_filtered = filter_columns(sp_df_2)"
   ]
  },
  {
   "cell_type": "code",
   "execution_count": 4,
   "metadata": {
    "id": "122072a6e8ea422180310b224b836b8c"
   },
   "outputs": [],
   "source": [
    "customer_filtered.write.format(\"delta\").mode(\"overwrite\").save(\"s3a://sparkdatabucket/customer_filtered/\")"
   ]
  },
  {
   "cell_type": "code",
   "execution_count": 6,
   "metadata": {
    "id": "14158107143e42c58a8e266cd86baad6"
   },
   "outputs": [],
   "source": [
    "# load_cust_filt = sparkSession.read.format(\"delta\").load(\"s3a://sparkdatabucket/customer_filtered/\")"
   ]
  },
  {
   "cell_type": "code",
   "execution_count": 9,
   "metadata": {
    "id": "8d0249d9bde24dc88098dd6140a96f1c"
   },
   "outputs": [
    {
     "name": "stdout",
     "output_type": "stream",
     "text": [
      "+----------+---------+------+--------------+------+\n",
      "|FIRST_NAME|LAST_NAME|GENDER|       COUNTRY|INCOME|\n",
      "+----------+---------+------+--------------+------+\n",
      "|   Rolanda|     Ring|female|        Canada| 99960|\n",
      "|   Marquis|    Jiron|  male|       Germany| 99845|\n",
      "|   Nicolle|   Zollar|female|       Germany| 99824|\n",
      "|   Chantal|  Kammler|female| United States| 99205|\n",
      "|   Lorette|  Rochell|  male|       Germany| 98912|\n",
      "|  Porfirio|    Crupi|  male| United States| 98701|\n",
      "|       Kym|    Grime|  male|United Kingdom| 98132|\n",
      "|    Collin|   Renyer|female|United Kingdom| 97768|\n",
      "|     Bruna|     Gadd|  male| United States| 97745|\n",
      "|    Leslee|  Chamers|  male| United States| 97460|\n",
      "|     Steve|   Grippe|  male|        Canada| 97431|\n",
      "|     Leila|    Sebek|female|        Canada| 97361|\n",
      "|      Dean| Selgrade|  male| United States| 97298|\n",
      "|     Tessa| Mintreas|female|United Kingdom| 97245|\n",
      "|     Randy|   Bervig|female|       Germany| 97162|\n",
      "|    Kelsie|   Turick|  male|       Germany| 97026|\n",
      "|    Astrid|  Morgana|female|       Germany| 96745|\n",
      "|     Alice|  Sickman|  male|United Kingdom| 96535|\n",
      "|    Edythe|Zmijewski|female|United Kingdom| 96331|\n",
      "|    Jennie|  Dezayas|  male|United Kingdom| 96162|\n",
      "+----------+---------+------+--------------+------+\n",
      "only showing top 20 rows\n",
      "\n"
     ]
    }
   ],
   "source": [
    "# load_cust_filt.show()"
   ]
  }
 ],
 "metadata": {
  "kernelspec": {
   "display_name": "Python 3.9 with Spark",
   "language": "python3",
   "name": "python39"
  },
  "language_info": {
   "codemirror_mode": {
    "name": "ipython",
    "version": 3
   },
   "file_extension": ".py",
   "mimetype": "text/x-python",
   "name": "python",
   "nbconvert_exporter": "python",
   "pygments_lexer": "ipython3",
   "version": "3.9.13"
  }
 },
 "nbformat": 4,
 "nbformat_minor": 4
}
